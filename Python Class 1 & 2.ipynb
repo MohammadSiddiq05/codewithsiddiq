{
 "cells": [
  {
   "cell_type": "code",
   "execution_count": null,
   "id": "4c1ad151-6de4-4051-a1c2-23bd7c9b15ae",
   "metadata": {},
   "outputs": [],
   "source": [
    "# commit in python is starts with #"
   ]
  },
  {
   "cell_type": "code",
   "execution_count": 1,
   "id": "486a73fb-66e5-4bde-9f61-d8598e27ac33",
   "metadata": {},
   "outputs": [
    {
     "name": "stdout",
     "output_type": "stream",
     "text": [
      "Hi Siddiq\n"
     ]
    }
   ],
   "source": [
    "print(\"Hi Siddiq\") "
   ]
  },
  {
   "cell_type": "markdown",
   "id": "c2d5f977-cfec-452c-a974-6c0dffbe6cdf",
   "metadata": {},
   "source": [
    "### Variable"
   ]
  },
  {
   "cell_type": "code",
   "execution_count": 14,
   "id": "b1299f0a-d3bd-47f3-b465-9d681cd5f75f",
   "metadata": {},
   "outputs": [
    {
     "name": "stdout",
     "output_type": "stream",
     "text": [
      "Siddiq\n",
      "<class 'str'>\n"
     ]
    },
    {
     "data": {
      "text/plain": [
       "2106059198320"
      ]
     },
     "execution_count": 14,
     "metadata": {},
     "output_type": "execute_result"
    }
   ],
   "source": [
    "name = \"Siddiq\" #string types variable\n",
    "print(name)\n",
    "print(type(name))\n",
    "id(name) #last line in jupyter print by default"
   ]
  },
  {
   "cell_type": "code",
   "execution_count": 15,
   "id": "93497ee0-d886-420b-87bf-7121de2fca0e",
   "metadata": {},
   "outputs": [
    {
     "name": "stdout",
     "output_type": "stream",
     "text": [
      "siddiq said, \"I love Programming\"\n"
     ]
    }
   ],
   "source": [
    "print('siddiq said, \"I love Programming\"') #single comma lgaya h isliye shi print hua h "
   ]
  },
  {
   "cell_type": "code",
   "execution_count": 17,
   "id": "550ddcef-700e-454f-a8e6-141858832090",
   "metadata": {},
   "outputs": [
    {
     "name": "stdout",
     "output_type": "stream",
     "text": [
      "19\n",
      "<class 'int'>\n"
     ]
    },
    {
     "data": {
      "text/plain": [
       "140723620529512"
      ]
     },
     "execution_count": 17,
     "metadata": {},
     "output_type": "execute_result"
    }
   ],
   "source": [
    "age = 19 #integer type\n",
    "print(age)\n",
    "print(type(age))\n",
    "id(age)"
   ]
  },
  {
   "cell_type": "code",
   "execution_count": 18,
   "id": "db3336b4-7ba0-48e3-ba61-7803ad54638b",
   "metadata": {},
   "outputs": [
    {
     "name": "stdout",
     "output_type": "stream",
     "text": [
      "65.5\n",
      "<class 'float'>\n"
     ]
    },
    {
     "data": {
      "text/plain": [
       "2106038598992"
      ]
     },
     "execution_count": 18,
     "metadata": {},
     "output_type": "execute_result"
    }
   ],
   "source": [
    "weight = 65.5 # Float kehty hain isy\n",
    "print(weight)\n",
    "print(type(weight))\n",
    "id(weight)"
   ]
  },
  {
   "cell_type": "code",
   "execution_count": 20,
   "id": "4ce20f94-982d-4c8e-af47-a75924bcf91f",
   "metadata": {},
   "outputs": [
    {
     "name": "stdout",
     "output_type": "stream",
     "text": [
      "True\n",
      "<class 'bool'>\n"
     ]
    },
    {
     "data": {
      "text/plain": [
       "140723619056192"
      ]
     },
     "execution_count": 20,
     "metadata": {},
     "output_type": "execute_result"
    }
   ],
   "source": [
    "is_present = True #boolean\n",
    "print(is_present)\n",
    "print(type(is_present))\n",
    "id(is_present)"
   ]
  },
  {
   "cell_type": "markdown",
   "id": "54f22726-0f3f-4c3b-8cae-4757299736a2",
   "metadata": {},
   "source": [
    "###  Operator"
   ]
  },
  {
   "cell_type": "code",
   "execution_count": 21,
   "id": "064201dc-bf22-4a47-984c-f114b12d52a5",
   "metadata": {},
   "outputs": [
    {
     "data": {
      "text/plain": [
       "4"
      ]
     },
     "execution_count": 21,
     "metadata": {},
     "output_type": "execute_result"
    }
   ],
   "source": [
    "2+2"
   ]
  },
  {
   "cell_type": "code",
   "execution_count": 22,
   "id": "76fcb8bb-00de-4514-b9b7-03a095089a08",
   "metadata": {},
   "outputs": [
    {
     "data": {
      "text/plain": [
       "27"
      ]
     },
     "execution_count": 22,
     "metadata": {},
     "output_type": "execute_result"
    }
   ],
   "source": [
    "3**3 "
   ]
  },
  {
   "cell_type": "code",
   "execution_count": 23,
   "id": "3c3da0d5-bb43-40ba-9679-29eba16c5da8",
   "metadata": {},
   "outputs": [
    {
     "data": {
      "text/plain": [
       "2"
      ]
     },
     "execution_count": 23,
     "metadata": {},
     "output_type": "execute_result"
    }
   ],
   "source": [
    "5//2 #floor yani value ko neche lekr ana"
   ]
  },
  {
   "cell_type": "code",
   "execution_count": 29,
   "id": "a14694fa-fa59-4294-8554-40f479603eb1",
   "metadata": {},
   "outputs": [
    {
     "name": "stdout",
     "output_type": "stream",
     "text": [
      "The ceiling value of 1.3333333333333333 is: 2\n"
     ]
    }
   ],
   "source": [
    "import math\n",
    "\n",
    "value = 4/3 \n",
    "\n",
    "print(\"The ceiling value of\",value,\"is:\",math.ceil(value)) #\n"
   ]
  },
  {
   "cell_type": "code",
   "execution_count": 1,
   "id": "143643d3-aea2-4368-8796-dd6b708e8955",
   "metadata": {},
   "outputs": [
    {
     "name": "stdout",
     "output_type": "stream",
     "text": [
      "3\n"
     ]
    }
   ],
   "source": [
    "import math\n",
    "x=5/2\n",
    "y= (math.ceil(x))\n",
    "print(y)"
   ]
  },
  {
   "cell_type": "markdown",
   "id": "d6e85f3e-011e-408c-8e77-b34d5cb7ea95",
   "metadata": {},
   "source": [
    "### some more operatos"
   ]
  },
  {
   "cell_type": "code",
   "execution_count": 6,
   "id": "0acfa310-e043-4e23-9a79-ea7d266b4126",
   "metadata": {},
   "outputs": [
    {
     "data": {
      "text/plain": [
       "1"
      ]
     },
     "execution_count": 6,
     "metadata": {},
     "output_type": "execute_result"
    }
   ],
   "source": [
    "9%4"
   ]
  },
  {
   "cell_type": "code",
   "execution_count": 10,
   "id": "753ff20a-15a9-4860-84f8-32c2c61ebcf5",
   "metadata": {},
   "outputs": [
    {
     "name": "stdout",
     "output_type": "stream",
     "text": [
      "24\n"
     ]
    }
   ],
   "source": [
    "age=19\n",
    "age += 5 #incrrement\n",
    "\n",
    "print(age)"
   ]
  },
  {
   "cell_type": "code",
   "execution_count": 17,
   "id": "cfa23386-2a0c-46e5-bd0b-5f796085866b",
   "metadata": {},
   "outputs": [
    {
     "name": "stdout",
     "output_type": "stream",
     "text": [
      "-5.333333333333334\n"
     ]
    }
   ],
   "source": [
    "age -= 8 #decrement\n",
    "print(age)"
   ]
  },
  {
   "cell_type": "code",
   "execution_count": 18,
   "id": "b8b00b95-d130-40c6-a078-a4e4c75c51c9",
   "metadata": {},
   "outputs": [
    {
     "data": {
      "text/plain": [
       "22"
      ]
     },
     "execution_count": 18,
     "metadata": {},
     "output_type": "execute_result"
    }
   ],
   "source": [
    "1+(3+2)+4**2 #power always solve first"
   ]
  },
  {
   "cell_type": "code",
   "execution_count": 19,
   "id": "b040ba71-202d-41e6-8bdd-793970150205",
   "metadata": {},
   "outputs": [
    {
     "data": {
      "text/plain": [
       "34"
      ]
     },
     "execution_count": 19,
     "metadata": {},
     "output_type": "execute_result"
    }
   ],
   "source": [
    "((2*4) * 4)+2"
   ]
  },
  {
   "cell_type": "markdown",
   "id": "141f6d69-37ab-4aef-be8d-fdc17e83dbb4",
   "metadata": {},
   "source": [
    "### Concatenation\n"
   ]
  },
  {
   "cell_type": "code",
   "execution_count": 22,
   "id": "5102b6ee-30b1-4218-9f67-3b5f73b39d0e",
   "metadata": {},
   "outputs": [
    {
     "data": {
      "text/plain": [
       "'Siddiq Shah'"
      ]
     },
     "execution_count": 22,
     "metadata": {},
     "output_type": "execute_result"
    }
   ],
   "source": [
    "\"Siddiq \" + \"Shah\""
   ]
  },
  {
   "cell_type": "code",
   "execution_count": 23,
   "id": "96c4b785-d7c0-4649-8313-c341223a8677",
   "metadata": {},
   "outputs": [
    {
     "data": {
      "text/plain": [
       "('Siddiq ', 'Shah')"
      ]
     },
     "execution_count": 23,
     "metadata": {},
     "output_type": "execute_result"
    }
   ],
   "source": [
    "\"Siddiq \" , \"Shah\" # cpmma will covert this into tuple"
   ]
  },
  {
   "cell_type": "code",
   "execution_count": 25,
   "id": "abbb3dd9-99e3-4996-985d-65054a0774cb",
   "metadata": {},
   "outputs": [
    {
     "name": "stdout",
     "output_type": "stream",
     "text": [
      "Siddiq  Shah\n"
     ]
    }
   ],
   "source": [
    "print ('Siddiq ', 'Shah') # print krne se normal ans aeg\n"
   ]
  },
  {
   "cell_type": "code",
   "execution_count": 8,
   "id": "ea0929de-eabe-4d1b-b582-4759f59b3641",
   "metadata": {},
   "outputs": [
    {
     "data": {
      "text/plain": [
       "30"
      ]
     },
     "execution_count": 8,
     "metadata": {},
     "output_type": "execute_result"
    }
   ],
   "source": [
    "age = 25\n",
    "age += 5\n",
    "age"
   ]
  },
  {
   "cell_type": "code",
   "execution_count": 9,
   "id": "1479b36e-38f8-4242-9c4b-63c2061cb2a6",
   "metadata": {},
   "outputs": [
    {
     "data": {
      "text/plain": [
       "-1"
      ]
     },
     "execution_count": 9,
     "metadata": {},
     "output_type": "execute_result"
    }
   ],
   "source": [
    "2-3"
   ]
  },
  {
   "cell_type": "code",
   "execution_count": 16,
   "id": "981739b3-cadc-44cc-8256-c91496800238",
   "metadata": {},
   "outputs": [],
   "source": [
    "name = \"siddiq shah\""
   ]
  },
  {
   "cell_type": "code",
   "execution_count": 17,
   "id": "3f28c372-1473-489a-a479-7906f5c7ea4e",
   "metadata": {},
   "outputs": [],
   "source": [
    "age = 19"
   ]
  },
  {
   "cell_type": "code",
   "execution_count": 18,
   "id": "1e124024-762d-4d84-affa-926152fcb39f",
   "metadata": {},
   "outputs": [],
   "source": [
    "weight = 67.74"
   ]
  },
  {
   "cell_type": "code",
   "execution_count": 19,
   "id": "7e272a82-8b68-4c0e-b3d9-7cda279d4928",
   "metadata": {},
   "outputs": [],
   "source": [
    "is_present = True"
   ]
  },
  {
   "cell_type": "code",
   "execution_count": 20,
   "id": "a6323eca-00d5-48c1-bded-5267c1afda6b",
   "metadata": {},
   "outputs": [
    {
     "data": {
      "text/plain": [
       "('siddiq shah', 19, 67, True)"
      ]
     },
     "execution_count": 20,
     "metadata": {},
     "output_type": "execute_result"
    }
   ],
   "source": [
    "name, age, weight, is_present"
   ]
  },
  {
   "cell_type": "code",
   "execution_count": 27,
   "id": "1800e8dd-5fee-476e-96f1-2ae07a8c9dbd",
   "metadata": {},
   "outputs": [
    {
     "name": "stdout",
     "output_type": "stream",
     "text": [
      "student name: siddiq shah\n",
      "student age: 19\n",
      "student weight: 67\n",
      "student is_present: True\n"
     ]
    }
   ],
   "source": [
    "#Method :1 Concatenation with , [, will do by defualt type casting]\n",
    "print(\"student name:\", name)\n",
    "print(\"student age:\", age)\n",
    "print(\"student weight:\", weight)\n",
    "print(\"student is_present:\", is_present)"
   ]
  },
  {
   "cell_type": "code",
   "execution_count": 28,
   "id": "d473dc87-6a0d-4a8c-9163-f2b768d142ac",
   "metadata": {},
   "outputs": [
    {
     "name": "stdout",
     "output_type": "stream",
     "text": [
      "student name:siddiq shah\n",
      "student age:19\n",
      "student weight:67\n",
      "student is_present:True\n"
     ]
    }
   ],
   "source": [
    "#Method :2 Concatenation with + [+ requires type casting]\n",
    "print(\"student name:\" + name)\n",
    "print(\"student age:\" +str(age))\n",
    "print(\"student weight:\" + str(weight))\n",
    "print(\"student is_present:\" + str(is_present))"
   ]
  },
  {
   "cell_type": "code",
   "execution_count": 31,
   "id": "0aec65f8-952b-44c0-b7f3-87e2229ea6dc",
   "metadata": {},
   "outputs": [
    {
     "ename": "TypeError",
     "evalue": "can only concatenate str (not \"int\") to str",
     "output_type": "error",
     "traceback": [
      "\u001b[1;31m---------------------------------------------------------------------------\u001b[0m",
      "\u001b[1;31mTypeError\u001b[0m                                 Traceback (most recent call last)",
      "Cell \u001b[1;32mIn[31], line 1\u001b[0m\n\u001b[1;32m----> 1\u001b[0m \u001b[38;5;28mprint\u001b[39m(\u001b[38;5;124m\"\u001b[39m\u001b[38;5;124m The sum of 2 plus 2 is\u001b[39m\u001b[38;5;124m\"\u001b[39m \u001b[38;5;241m+\u001b[39m \u001b[38;5;241m4\u001b[39m )\n",
      "\u001b[1;31mTypeError\u001b[0m: can only concatenate str (not \"int\") to str"
     ]
    }
   ],
   "source": [
    "print(\" The sum of 2 plus 2 is\" + 4 )"
   ]
  },
  {
   "cell_type": "code",
   "execution_count": 33,
   "id": "853df293-d07c-4aba-aff1-6426f76a70a3",
   "metadata": {},
   "outputs": [
    {
     "name": "stdout",
     "output_type": "stream",
     "text": [
      "The sum of 2 plus 2 is 4\n"
     ]
    }
   ],
   "source": [
    "print(\"The sum of 2 plus 2 is \" + \"4\")"
   ]
  },
  {
   "cell_type": "code",
   "execution_count": 35,
   "id": "a1c9ff9e-8038-4ed0-88a8-da609f6591d7",
   "metadata": {},
   "outputs": [
    {
     "name": "stdout",
     "output_type": "stream",
     "text": [
      "Student name: siddiq shah\n",
      "student age: 19\n",
      "student weight: 67\n",
      "student is_present: True\n"
     ]
    }
   ],
   "source": [
    "print(f\"Student name: {name}\")\n",
    "print(f\"student age: {age}\" )\n",
    "print(f\"student weight: {weight}\")\n",
    "print(f\"student is_present: {is_present}\")\n"
   ]
  },
  {
   "cell_type": "code",
   "execution_count": 43,
   "id": "af661234-bced-49a2-8101-2a7d8110dfbe",
   "metadata": {},
   "outputs": [
    {
     "name": "stdout",
     "output_type": "stream",
     "text": [
      "Hello, World!\n"
     ]
    }
   ],
   "source": [
    "greeting = \"Hello\"\n",
    "separators = \", \"\n",
    "addressee = \"World\"\n",
    "punc =  \"!\"\n",
    "whole_greeting = greeting + separators + addressee + punc\n",
    "print(whole_greeting)\n",
    "\n"
   ]
  },
  {
   "cell_type": "code",
   "execution_count": 3,
   "id": "87a9397e-240c-42ba-872d-fcccecc865bb",
   "metadata": {},
   "outputs": [],
   "source": [
    "f_name = \"siddiq\"\n",
    "l_name = \"Shah\"\n",
    "weight = 65\n",
    "age = 19.5\n",
    "is_student = True"
   ]
  },
  {
   "cell_type": "code",
   "execution_count": 8,
   "id": "f9817557-d1fd-4e68-9ebc-8527207d0910",
   "metadata": {},
   "outputs": [
    {
     "data": {
      "text/plain": [
       "'Student name of python class is siddiq Shah'"
      ]
     },
     "execution_count": 8,
     "metadata": {},
     "output_type": "execute_result"
    }
   ],
   "source": [
    "#METHOD-1\n",
    "\"Student name of python class is \" + f_name+ \" \" +l_name "
   ]
  },
  {
   "cell_type": "code",
   "execution_count": 9,
   "id": "c895c3fb-9029-4ad8-b7bc-9c334ff8edbf",
   "metadata": {},
   "outputs": [
    {
     "data": {
      "text/plain": [
       "'Student name of python is siddiq Shah'"
      ]
     },
     "execution_count": 9,
     "metadata": {},
     "output_type": "execute_result"
    }
   ],
   "source": [
    "#METHOD-2\n",
    "f\"Student name of python is {f_name} {l_name}\""
   ]
  },
  {
   "cell_type": "code",
   "execution_count": null,
   "id": "fa0a921f-c92d-4bb7-b459-f571cfb8b161",
   "metadata": {},
   "outputs": [],
   "source": [
    "#METHOD-3\n"
   ]
  },
  {
   "cell_type": "markdown",
   "id": "fd9985b9-418c-49a4-9013-d480ec81c8e2",
   "metadata": {},
   "source": [
    "#### Conditional Statement"
   ]
  },
  {
   "cell_type": "code",
   "execution_count": 17,
   "id": "6db97314-9ffb-457e-b21c-61b7edeaa5f9",
   "metadata": {},
   "outputs": [
    {
     "name": "stdout",
     "output_type": "stream",
     "text": [
      "All Pakitani's will celebrate\n"
     ]
    }
   ],
   "source": [
    "result = \"win\"# \"Win\"/\"loss\"/\"Tie\"\n",
    "\n",
    "if result == \"win\":\n",
    "    print (\"All Pakitani's will celebrate\")\n",
    "else:\n",
    "    print(\"All Pakistani's will not celebrate\")\n"
   ]
  },
  {
   "cell_type": "code",
   "execution_count": 23,
   "id": "ee6e8028-2711-4011-8314-05a78c24c0ac",
   "metadata": {},
   "outputs": [
    {
     "name": "stdout",
     "output_type": "stream",
     "text": [
      "Both team get points\n"
     ]
    }
   ],
   "source": [
    "result = \"tie\"# \"Win\"/\"loss\"/\"Tie\"\n",
    "\n",
    "if result == \"win\":\n",
    "    print (\"All Pakitani's will celebrate\")\n",
    "elif result == \"tie\":\n",
    "    print(\"Both team get points\")\n",
    "else:\n",
    "    print(\"All Pakistani's will not celebrate\")\n"
   ]
  },
  {
   "cell_type": "code",
   "execution_count": 29,
   "id": "8e4fb9fc-c215-4208-8b2f-ef4da748b068",
   "metadata": {},
   "outputs": [
    {
     "name": "stdout",
     "output_type": "stream",
     "text": [
      "mehran will win the race\n"
     ]
    }
   ],
   "source": [
    "#METHOD-1\n",
    "vechile = \"mehran\" #\"mehran\"/\"toyota\"/\"civic\"/\"khyber\"\n",
    "\n",
    "if vechile == \"mehran\":\n",
    "    print(\"mehran will win the race\")\n",
    "elif vechile == \"toyota\":\n",
    "    print(\"toyota will win the race\")\n",
    "elif vechile == \"khyber\":\n",
    "    print(\"khyber will win the race\")\n",
    "else:\n",
    "    print(\"civic will win the race\")"
   ]
  },
  {
   "cell_type": "code",
   "execution_count": 5,
   "id": "5e050930-1865-459a-a70b-7a68ba8ee1b6",
   "metadata": {},
   "outputs": [
    {
     "name": "stdout",
     "output_type": "stream",
     "text": [
      "This car will win the race called civic\n"
     ]
    }
   ],
   "source": [
    "#METHOD-2\n",
    "vehicle = \"civic\" #\"mehran\"/\"toyota\"/\"civic\"/\"khyber\"\n",
    "\n",
    "if (vehicle == \"mehran\"):\n",
    "    print(f'This car will win the race called {vehicle}')\n",
    "elif vehicle == \"toyota\":\n",
    "    print(f'This car will win the race called {vehicle}')\n",
    "elif vehicle == \"khyber\":\n",
    "    print(f'This car will win the race called {vehicle}')\n",
    "else:\n",
    "    print(f'This car will win the race called {vehicle}')"
   ]
  },
  {
   "cell_type": "code",
   "execution_count": 32,
   "id": "3f60bcd3-5641-4d59-b0f4-4052d57c2021",
   "metadata": {},
   "outputs": [
    {
     "name": "stdout",
     "output_type": "stream",
     "text": [
      "Yes, it's a cat of kingdom animal\n"
     ]
    }
   ],
   "source": [
    "species = \"cat\"\n",
    "if species == \"cat\":\n",
    "    status = \"ok\"\n",
    "    kingdom = \"animal\"\n",
    "    print(f\"Yes, it's a cat of kingdom {kingdom}\")"
   ]
  },
  {
   "cell_type": "code",
   "execution_count": 37,
   "id": "a40a68de-dbe9-49e0-8f0f-478cc5c19a03",
   "metadata": {},
   "outputs": [
    {
     "name": "stdout",
     "output_type": "stream",
     "text": [
      "Your grade is B\n"
     ]
    }
   ],
   "source": [
    "marks = 62 #80/70/60/50\n",
    "\n",
    "if marks >= 80:\n",
    "    print(\"Your grade is A+\")\n",
    "elif marks >= 70:\n",
    "    print(\"Your grade is A\")\n",
    "elif marks >= 60:\n",
    "    print(\"Your grade is B\")\n",
    "else:\n",
    "    marks >= 50\n",
    "    print(\"Your grade is C\")\n",
    "          "
   ]
  },
  {
   "cell_type": "code",
   "execution_count": 38,
   "id": "600c1a8f-db49-46a3-923c-fb15e5bd7766",
   "metadata": {},
   "outputs": [
    {
     "name": "stdin",
     "output_type": "stream",
     "text": [
      "Enter your Marks 45\n"
     ]
    },
    {
     "data": {
      "text/plain": [
       "'45'"
      ]
     },
     "execution_count": 38,
     "metadata": {},
     "output_type": "execute_result"
    }
   ],
   "source": [
    "input(\"Enter your Marks\") # input() always return string output"
   ]
  },
  {
   "cell_type": "code",
   "execution_count": 39,
   "id": "7141c552-9547-49ae-a4f0-46f60a34a8da",
   "metadata": {},
   "outputs": [
    {
     "name": "stdin",
     "output_type": "stream",
     "text": [
      "Enter your Marks 45\n"
     ]
    },
    {
     "data": {
      "text/plain": [
       "45"
      ]
     },
     "execution_count": 39,
     "metadata": {},
     "output_type": "execute_result"
    }
   ],
   "source": [
    "int(input(\"Enter your Marks\"))"
   ]
  },
  {
   "cell_type": "code",
   "execution_count": 6,
   "id": "204160dd-8fa2-446f-ba09-92030a84e0da",
   "metadata": {},
   "outputs": [
    {
     "name": "stdin",
     "output_type": "stream",
     "text": [
      "Enter your Marks 62\n"
     ]
    },
    {
     "name": "stdout",
     "output_type": "stream",
     "text": [
      "Your grade is B\n"
     ]
    }
   ],
   "source": [
    "\n",
    "marks=int(input(\"Enter your Marks\"))\n",
    "if marks >= 80:\n",
    "    print(\"Your grade is A+\")\n",
    "elif marks >= 70:\n",
    "    print(\"Your grade is A\")\n",
    "elif marks >= 60:\n",
    "    print(\"Your grade is B\")\n",
    "else:\n",
    "    marks >= 50\n",
    "    print(\"Your grade is C\")\n",
    "          "
   ]
  },
  {
   "cell_type": "code",
   "execution_count": 50,
   "id": "8a5a24c0-b226-40ab-a197-3d41f8ec8a95",
   "metadata": {},
   "outputs": [
    {
     "name": "stdout",
     "output_type": "stream",
     "text": [
      "15\n"
     ]
    }
   ],
   "source": [
    "all_available = True\n",
    "is_fresh = True\n",
    "price = \"Average\" #average, low, high\n",
    "\n",
    "score = 0\n",
    "if all_available:\n",
    "    score += 5\n",
    "if is_fresh:\n",
    "    score += 5\n",
    "if price == \"Average\":\n",
    "    score += 5\n",
    "print(score)"
   ]
  },
  {
   "cell_type": "code",
   "execution_count": 55,
   "id": "dcb138b1-a75e-47d4-9c14-64fe1b27c1cb",
   "metadata": {},
   "outputs": [
    {
     "name": "stdin",
     "output_type": "stream",
     "text": [
      "Enter Your Percentage 59\n",
      "Enter Your age 17\n"
     ]
    },
    {
     "name": "stdout",
     "output_type": "stream",
     "text": [
      "Not eligible to take admission in uni\n"
     ]
    }
   ],
   "source": [
    "# AND => all conditions must be true\n",
    "# OR => one condition must be true\n",
    "\n",
    "inter_percentage = int(input(\"Enter Your Percentage\"))\n",
    "age_limit= int(input(\"Enter Your age\"))\n",
    "\n",
    "if ( inter_percentage > 60 ) and (age_limit >= 18):\n",
    "    print('Eligible to take admission in uni')\n",
    "else:\n",
    "    print('Not eligible to take admission in uni')\n",
    "    "
   ]
  },
  {
   "cell_type": "raw",
   "id": "5324eed2-c7fc-4275-8427-5c5c1b2bd907",
   "metadata": {},
   "source": [
    "# AND => all conditions must be true\n",
    "# OR => one condition must be true\n",
    "\n",
    "inter_percentage = int(input(\"Enter Your Percentage\"))\n",
    "age_limit= int(input(\"Enter Your age\"))\n",
    "\n",
    "if ( inter_percentage > 60 ) or (age_limit >= 18):\n",
    "    print('Eligible to take admission in uni')\n",
    "else:\n",
    "    print('Not eligible to take admission in uni')\n",
    "    \n",
    "    "
   ]
  },
  {
   "cell_type": "markdown",
   "id": "e95fe72d-dc89-4fc3-8602-32bfcabb9fa8",
   "metadata": {},
   "source": [
    "# NESTED IF ELSE"
   ]
  },
  {
   "cell_type": "code",
   "execution_count": 9,
   "id": "266abf84-60c0-4373-9129-ad4697184bec",
   "metadata": {},
   "outputs": [
    {
     "name": "stdout",
     "output_type": "stream",
     "text": [
      "Can proceed with the test\n"
     ]
    },
    {
     "name": "stdin",
     "output_type": "stream",
     "text": [
      "Status of test (Pass/Fail): Pass\n"
     ]
    },
    {
     "name": "stdout",
     "output_type": "stream",
     "text": [
      "Can take adm\n"
     ]
    }
   ],
   "source": [
    "matric_pass = True\n",
    "\n",
    "if matric_pass:\n",
    "    print(f\"Can proceed with the test\")\n",
    "# nested if-else\n",
    "    test_cleared = input(\"Status of test (Pass/Fail):\")\n",
    "    if test_cleared == \"Pass\":\n",
    "        print(f\"Can take adm\")\n",
    "    else:\n",
    "        print(f\"You're in waiting list\")\n",
    "else:\n",
    "    print(f\"Atleast matric is the bare minimum requirement\")"
   ]
  },
  {
   "cell_type": "markdown",
   "id": "036a05e8-a3c3-4bbf-bada-4ffed2849ff6",
   "metadata": {},
   "source": [
    "# LIST"
   ]
  },
  {
   "cell_type": "code",
   "execution_count": 20,
   "id": "ab9cbab2-da44-42b7-9f82-b12d5a7d6943",
   "metadata": {},
   "outputs": [
    {
     "data": {
      "text/plain": [
       "'\\nsyntax of list:\\nlist_name = [value 1, value 2...]\\n'"
      ]
     },
     "execution_count": 20,
     "metadata": {},
     "output_type": "execute_result"
    }
   ],
   "source": [
    "city_0 = \"Atlanta\"\n",
    "city_1 = \"Baltimore\"\n",
    "city_2 = \"Chicago\"\n",
    "city_3 = \"Denver\"\n",
    "city_4 = \"Los Angeles\"\n",
    "city_5 = \"Seattle\"\n",
    "\n",
    "'''\n",
    "syntax of list:\n",
    "list_name = [value 1, value 2...]\n",
    "'''\n",
    "\n"
   ]
  },
  {
   "cell_type": "code",
   "execution_count": 12,
   "id": "fce7ad7f-ddf0-403d-a844-c39ec72bacf0",
   "metadata": {},
   "outputs": [],
   "source": [
    "cities = [\"Atlanta\", \"Baltimore\", \"Chicago\", \"Denver\", \"Los Angeles\", \"Seattle\"]"
   ]
  },
  {
   "cell_type": "code",
   "execution_count": 14,
   "id": "394ddefe-f9eb-4d58-8fd6-60b413ac3687",
   "metadata": {},
   "outputs": [
    {
     "name": "stdout",
     "output_type": "stream",
     "text": [
      "<class 'list'>\n"
     ]
    }
   ],
   "source": [
    "print(type(cities))"
   ]
  },
  {
   "cell_type": "code",
   "execution_count": 17,
   "id": "509a0759-2544-4d7e-8396-2bda5ed72cb1",
   "metadata": {},
   "outputs": [
    {
     "data": {
      "text/plain": [
       "'Atlanta'"
      ]
     },
     "execution_count": 17,
     "metadata": {},
     "output_type": "execute_result"
    }
   ],
   "source": [
    "cities[0]"
   ]
  },
  {
   "cell_type": "code",
   "execution_count": 18,
   "id": "e7c13d29-7c16-44c0-bd12-7ed1ea47534b",
   "metadata": {},
   "outputs": [
    {
     "data": {
      "text/plain": [
       "'Seattle'"
      ]
     },
     "execution_count": 18,
     "metadata": {},
     "output_type": "execute_result"
    }
   ],
   "source": [
    "cities[5]"
   ]
  },
  {
   "cell_type": "markdown",
   "id": "53370c81-7d6d-4137-9c54-b22dd3e84c25",
   "metadata": {},
   "source": [
    "# Taking slices out of them"
   ]
  },
  {
   "cell_type": "code",
   "execution_count": 21,
   "id": "38e89872-70a4-4d13-8ea1-436a1030b58d",
   "metadata": {},
   "outputs": [
    {
     "data": {
      "text/plain": [
       "['Atlanta', 'Baltimore', 'Chicago', 'Denver', 'Los Angeles', 'Seattle']"
      ]
     },
     "execution_count": 21,
     "metadata": {},
     "output_type": "execute_result"
    }
   ],
   "source": [
    "cities"
   ]
  },
  {
   "cell_type": "code",
   "execution_count": 22,
   "id": "c450a77e-9a8f-40dd-9751-1c4b46237080",
   "metadata": {},
   "outputs": [
    {
     "data": {
      "text/plain": [
       "['Atlanta', 'Baltimore', 'Chicago', 'Denver']"
      ]
     },
     "execution_count": 22,
     "metadata": {},
     "output_type": "execute_result"
    }
   ],
   "source": [
    "cities[:4] # last index is excluded"
   ]
  },
  {
   "cell_type": "code",
   "execution_count": 23,
   "id": "ecc61312-a780-470a-a091-30b7669986e0",
   "metadata": {},
   "outputs": [
    {
     "data": {
      "text/plain": [
       "['Chicago', 'Denver', 'Los Angeles']"
      ]
     },
     "execution_count": 23,
     "metadata": {},
     "output_type": "execute_result"
    }
   ],
   "source": [
    "cities [2:5] # last value exclude hojati h or 1st value inlude"
   ]
  },
  {
   "cell_type": "code",
   "execution_count": 26,
   "id": "1d02761b-18d5-4cc5-a638-b49d5fcf1f54",
   "metadata": {},
   "outputs": [
    {
     "data": {
      "text/plain": [
       "['Denver', 'Los Angeles']"
      ]
     },
     "execution_count": 26,
     "metadata": {},
     "output_type": "execute_result"
    }
   ],
   "source": [
    "cities[-3:-1]"
   ]
  },
  {
   "cell_type": "code",
   "execution_count": 27,
   "id": "ec63f480-6fc4-401b-84ce-b076f1cd2c48",
   "metadata": {},
   "outputs": [
    {
     "data": {
      "text/plain": [
       "['Baltimore']"
      ]
     },
     "execution_count": 27,
     "metadata": {},
     "output_type": "execute_result"
    }
   ],
   "source": [
    "cities[1:2:3]"
   ]
  },
  {
   "cell_type": "code",
   "execution_count": 28,
   "id": "fb6846a9-4dd5-48f2-9cae-e53e73411d69",
   "metadata": {},
   "outputs": [
    {
     "data": {
      "text/plain": [
       "['Atlanta', 'Chicago', 'Los Angeles']"
      ]
     },
     "execution_count": 28,
     "metadata": {},
     "output_type": "execute_result"
    }
   ],
   "source": [
    "cities[::2]"
   ]
  },
  {
   "cell_type": "code",
   "execution_count": 29,
   "id": "4a8d88d3-66c3-4742-8d68-bd803039a571",
   "metadata": {},
   "outputs": [
    {
     "data": {
      "text/plain": [
       "['Baltimore', 'Seattle']"
      ]
     },
     "execution_count": 29,
     "metadata": {},
     "output_type": "execute_result"
    }
   ],
   "source": [
    "cities[1::4]"
   ]
  },
  {
   "cell_type": "code",
   "execution_count": 30,
   "id": "34065397-4f57-4522-bbd3-43b8fc284eca",
   "metadata": {},
   "outputs": [
    {
     "data": {
      "text/plain": [
       "['Seattle', 'Los Angeles', 'Denver', 'Chicago', 'Baltimore', 'Atlanta']"
      ]
     },
     "execution_count": 30,
     "metadata": {},
     "output_type": "execute_result"
    }
   ],
   "source": [
    "cities[::-1]"
   ]
  },
  {
   "cell_type": "code",
   "execution_count": 35,
   "id": "c675bee7-f099-4f33-993f-3eb5c5be29ce",
   "metadata": {},
   "outputs": [
    {
     "data": {
      "text/plain": [
       "['Baltimore', 'Los Angeles']"
      ]
     },
     "execution_count": 35,
     "metadata": {},
     "output_type": "execute_result"
    }
   ],
   "source": [
    "cities[1::3]"
   ]
  },
  {
   "cell_type": "code",
   "execution_count": 44,
   "id": "56e4dcb9-545b-4cc7-943e-a6676f476fe3",
   "metadata": {},
   "outputs": [
    {
     "data": {
      "text/plain": [
       "['Dallas', 'Seattle', 'Chicago', 'Texax']"
      ]
     },
     "execution_count": 44,
     "metadata": {},
     "output_type": "execute_result"
    }
   ],
   "source": [
    "cities[-1::-3]"
   ]
  },
  {
   "cell_type": "markdown",
   "id": "a0d21a5d-efb2-4b69-8288-c2132cec7236",
   "metadata": {},
   "source": [
    "# Adding and Inserting Values"
   ]
  },
  {
   "cell_type": "code",
   "execution_count": null,
   "id": "94a717a7-22f5-4747-9cc3-d827a65705a8",
   "metadata": {},
   "outputs": [],
   "source": [
    "cities. # METHODS-1: press Tab to get intelligence regarding available function\n",
    "dir(cities) # METHODS-2 "
   ]
  },
  {
   "cell_type": "code",
   "execution_count": 36,
   "id": "4c4ad281-9f72-45e0-b9d0-9d3481a24592",
   "metadata": {},
   "outputs": [],
   "source": [
    "cities.append(\"New York\")"
   ]
  },
  {
   "cell_type": "code",
   "execution_count": 37,
   "id": "9dfff7f2-5344-4d9d-84a2-96148b9ec2fe",
   "metadata": {},
   "outputs": [
    {
     "data": {
      "text/plain": [
       "['Atlanta',\n",
       " 'Baltimore',\n",
       " 'Chicago',\n",
       " 'Denver',\n",
       " 'Los Angeles',\n",
       " 'Seattle',\n",
       " 'New York']"
      ]
     },
     "execution_count": 37,
     "metadata": {},
     "output_type": "execute_result"
    }
   ],
   "source": [
    "cities"
   ]
  },
  {
   "cell_type": "code",
   "execution_count": null,
   "id": "47ccfcff-85ef-44cd-b5c0-40e1eb1f606d",
   "metadata": {},
   "outputs": [],
   "source": []
  },
  {
   "cell_type": "code",
   "execution_count": 38,
   "id": "c16e0629-bc37-4deb-9c8b-1bb8176eec16",
   "metadata": {},
   "outputs": [],
   "source": [
    "cities.append(\"Miami\")"
   ]
  },
  {
   "cell_type": "code",
   "execution_count": 39,
   "id": "2f7d79ae-2abe-481b-93a9-e2cc6213e4d0",
   "metadata": {},
   "outputs": [
    {
     "data": {
      "text/plain": [
       "['Atlanta',\n",
       " 'Baltimore',\n",
       " 'Chicago',\n",
       " 'Denver',\n",
       " 'Los Angeles',\n",
       " 'Seattle',\n",
       " 'New York',\n",
       " 'Miami']"
      ]
     },
     "execution_count": 39,
     "metadata": {},
     "output_type": "execute_result"
    }
   ],
   "source": [
    "cities"
   ]
  },
  {
   "cell_type": "code",
   "execution_count": 40,
   "id": "735d899e-decd-4133-ab49-d7c9fd85260e",
   "metadata": {},
   "outputs": [],
   "source": [
    "cities.insert(0, \"Texax\")"
   ]
  },
  {
   "cell_type": "code",
   "execution_count": 41,
   "id": "db6848e9-60f9-4603-ba1e-f88da2a4c4c8",
   "metadata": {},
   "outputs": [
    {
     "data": {
      "text/plain": [
       "['Texax',\n",
       " 'Atlanta',\n",
       " 'Baltimore',\n",
       " 'Chicago',\n",
       " 'Denver',\n",
       " 'Los Angeles',\n",
       " 'Seattle',\n",
       " 'New York',\n",
       " 'Miami']"
      ]
     },
     "execution_count": 41,
     "metadata": {},
     "output_type": "execute_result"
    }
   ],
   "source": [
    "cities"
   ]
  },
  {
   "cell_type": "code",
   "execution_count": 42,
   "id": "d4278526-0fe9-4f21-bab8-c04dc90d987b",
   "metadata": {},
   "outputs": [],
   "source": [
    "cities = cities + ['Dallas']"
   ]
  },
  {
   "cell_type": "code",
   "execution_count": 43,
   "id": "58de5f9c-93c6-491a-86da-2090ec0b0ac8",
   "metadata": {},
   "outputs": [
    {
     "data": {
      "text/plain": [
       "['Texax',\n",
       " 'Atlanta',\n",
       " 'Baltimore',\n",
       " 'Chicago',\n",
       " 'Denver',\n",
       " 'Los Angeles',\n",
       " 'Seattle',\n",
       " 'New York',\n",
       " 'Miami',\n",
       " 'Dallas']"
      ]
     },
     "execution_count": 43,
     "metadata": {},
     "output_type": "execute_result"
    }
   ],
   "source": [
    "cities"
   ]
  },
  {
   "cell_type": "code",
   "execution_count": 46,
   "id": "164055c4-b8fe-443e-a489-27c1ced0945b",
   "metadata": {},
   "outputs": [
    {
     "data": {
      "text/plain": [
       "['Miami', 'Baltimore']"
      ]
     },
     "execution_count": 46,
     "metadata": {},
     "output_type": "execute_result"
    }
   ],
   "source": [
    "cities[-2::-6]"
   ]
  },
  {
   "cell_type": "code",
   "execution_count": null,
   "id": "5666c410-e0e0-4fde-8079-5a33021faf4d",
   "metadata": {},
   "outputs": [],
   "source": []
  },
  {
   "cell_type": "markdown",
   "id": "10ab6e44-c82c-4c81-bac8-e42b0ce052f1",
   "metadata": {},
   "source": [
    "# Deleting and removing elements"
   ]
  },
  {
   "cell_type": "code",
   "execution_count": 47,
   "id": "dabc0eb4-d646-46aa-9ad0-effa2a94b784",
   "metadata": {},
   "outputs": [],
   "source": [
    "# method 1\n",
    "cities.remove(\"Miami\")"
   ]
  },
  {
   "cell_type": "code",
   "execution_count": 48,
   "id": "dd0e9d32-c2da-412d-8066-af2c78be29cb",
   "metadata": {},
   "outputs": [
    {
     "data": {
      "text/plain": [
       "['Texax',\n",
       " 'Atlanta',\n",
       " 'Baltimore',\n",
       " 'Chicago',\n",
       " 'Denver',\n",
       " 'Los Angeles',\n",
       " 'Seattle',\n",
       " 'New York',\n",
       " 'Dallas']"
      ]
     },
     "execution_count": 48,
     "metadata": {},
     "output_type": "execute_result"
    }
   ],
   "source": [
    "cities"
   ]
  },
  {
   "cell_type": "code",
   "execution_count": 53,
   "id": "fc261bb8-ff69-4843-8a65-68ba6948cb51",
   "metadata": {},
   "outputs": [],
   "source": [
    "# method 2\n",
    "del (cities[1])"
   ]
  },
  {
   "cell_type": "code",
   "execution_count": 54,
   "id": "82502f4d-9335-482e-900e-bd7094618ca0",
   "metadata": {},
   "outputs": [
    {
     "data": {
      "text/plain": [
       "['Texax',\n",
       " 'Baltimore',\n",
       " 'Chicago',\n",
       " 'Denver',\n",
       " 'Los Angeles',\n",
       " 'Seattle',\n",
       " 'New York',\n",
       " 'Dallas']"
      ]
     },
     "execution_count": 54,
     "metadata": {},
     "output_type": "execute_result"
    }
   ],
   "source": [
    "cities"
   ]
  },
  {
   "cell_type": "markdown",
   "id": "51bd0f46-60c2-4fff-b4f1-ab8b5f75cfeb",
   "metadata": {},
   "source": [
    "### Poping Values From list"
   ]
  },
  {
   "cell_type": "code",
   "execution_count": 55,
   "id": "ef849f78-c784-44d1-9171-4786f589867b",
   "metadata": {},
   "outputs": [],
   "source": [
    "holding_pop_city = cities.pop()"
   ]
  },
  {
   "cell_type": "code",
   "execution_count": 56,
   "id": "b053e886-63ad-47b3-b7d9-3c08a67e390f",
   "metadata": {},
   "outputs": [
    {
     "data": {
      "text/plain": [
       "['Texax',\n",
       " 'Baltimore',\n",
       " 'Chicago',\n",
       " 'Denver',\n",
       " 'Los Angeles',\n",
       " 'Seattle',\n",
       " 'New York']"
      ]
     },
     "execution_count": 56,
     "metadata": {},
     "output_type": "execute_result"
    }
   ],
   "source": [
    "cities"
   ]
  },
  {
   "cell_type": "code",
   "execution_count": 57,
   "id": "2b415a90-f961-4862-b215-59a28fdf805b",
   "metadata": {},
   "outputs": [],
   "source": [
    "holding_pop_city = cities.pop(-5)"
   ]
  },
  {
   "cell_type": "code",
   "execution_count": 58,
   "id": "93ca94d0-8921-42ca-a50b-ee3ac82f86e8",
   "metadata": {},
   "outputs": [
    {
     "data": {
      "text/plain": [
       "['Texax', 'Baltimore', 'Denver', 'Los Angeles', 'Seattle', 'New York']"
      ]
     },
     "execution_count": 58,
     "metadata": {},
     "output_type": "execute_result"
    }
   ],
   "source": [
    "cities"
   ]
  },
  {
   "cell_type": "code",
   "execution_count": 59,
   "id": "979d23eb-ceb1-46a5-b67a-0687df5411d0",
   "metadata": {},
   "outputs": [
    {
     "data": {
      "text/plain": [
       "'Denver'"
      ]
     },
     "execution_count": 59,
     "metadata": {},
     "output_type": "execute_result"
    }
   ],
   "source": [
    "cities.pop(2)"
   ]
  },
  {
   "cell_type": "code",
   "execution_count": 60,
   "id": "d638b6b3-0498-4f87-9152-ed3aa862cc6d",
   "metadata": {},
   "outputs": [
    {
     "data": {
      "text/plain": [
       "['Texax', 'Baltimore', 'Los Angeles', 'Seattle', 'New York']"
      ]
     },
     "execution_count": 60,
     "metadata": {},
     "output_type": "execute_result"
    }
   ],
   "source": [
    "cities"
   ]
  },
  {
   "cell_type": "code",
   "execution_count": 65,
   "id": "0d21ef79-fc98-42c6-8f7e-197e8d0345e7",
   "metadata": {},
   "outputs": [],
   "source": [
    "routine = [\"Praying\", \"running\", 'eating', 'studying']\n",
    "routine_done=[]\n",
    "\n",
    "routine_done.append(routine.pop(0))"
   ]
  },
  {
   "cell_type": "code",
   "execution_count": 66,
   "id": "659ec34c-8702-4a0b-b58e-e2a3b639fdf7",
   "metadata": {},
   "outputs": [
    {
     "data": {
      "text/plain": [
       "['Praying']"
      ]
     },
     "execution_count": 66,
     "metadata": {},
     "output_type": "execute_result"
    }
   ],
   "source": [
    "routine_done"
   ]
  },
  {
   "cell_type": "markdown",
   "id": "bdfa6426-c049-4fcd-a551-9ebe271ed90e",
   "metadata": {},
   "source": [
    "# Extra Methods"
   ]
  },
  {
   "cell_type": "code",
   "execution_count": 67,
   "id": "9f3f4033-f583-45c7-a364-4e14b1b3b501",
   "metadata": {},
   "outputs": [],
   "source": [
    "routine_done.clear()"
   ]
  },
  {
   "cell_type": "code",
   "execution_count": 78,
   "id": "d05223d1-6382-4f92-885c-a307f6e57084",
   "metadata": {},
   "outputs": [
    {
     "ename": "SyntaxError",
     "evalue": "invalid syntax (2159517676.py, line 2)",
     "output_type": "error",
     "traceback": [
      "\u001b[1;36m  Cell \u001b[1;32mIn[78], line 2\u001b[1;36m\u001b[0m\n\u001b[1;33m    -refrence the same original\u001b[0m\n\u001b[1;37m              ^\u001b[0m\n\u001b[1;31mSyntaxError\u001b[0m\u001b[1;31m:\u001b[0m invalid syntax\n"
     ]
    }
   ],
   "source": [
    "### Shallow copy:\n",
    "-refrence the same original\n",
    "-changing in original can affect the copy\n",
    "\n",
    "Deep Copy:\n",
    "-Create seperate copy of the obj\n",
    "-chnaging in orignial cant affect the copy"
   ]
  },
  {
   "cell_type": "code",
   "execution_count": 69,
   "id": "9954a03a-cc74-4c40-afbf-169deb63b479",
   "metadata": {},
   "outputs": [],
   "source": [
    "todolist = routine.copy()"
   ]
  },
  {
   "cell_type": "code",
   "execution_count": 70,
   "id": "e1c4570a-93c9-495d-a86c-b002cda606b7",
   "metadata": {},
   "outputs": [
    {
     "data": {
      "text/plain": [
       "['running', 'eating', 'studying']"
      ]
     },
     "execution_count": 70,
     "metadata": {},
     "output_type": "execute_result"
    }
   ],
   "source": [
    "todolist"
   ]
  },
  {
   "cell_type": "code",
   "execution_count": 77,
   "id": "097e8538-af49-41b5-bd3f-29ce743b3f23",
   "metadata": {},
   "outputs": [],
   "source": [
    "routine.append(\"shopping\")\n"
   ]
  },
  {
   "cell_type": "code",
   "execution_count": 72,
   "id": "05413b1f-8c39-4953-831e-c71da91f0b64",
   "metadata": {},
   "outputs": [
    {
     "data": {
      "text/plain": [
       "['running', 'eating', 'studying', 'shopping']"
      ]
     },
     "execution_count": 72,
     "metadata": {},
     "output_type": "execute_result"
    }
   ],
   "source": [
    "routine"
   ]
  },
  {
   "cell_type": "code",
   "execution_count": 73,
   "id": "2002141a-7bb4-47c2-ae74-51cc7a8a6136",
   "metadata": {},
   "outputs": [
    {
     "data": {
      "text/plain": [
       "['running', 'eating', 'studying']"
      ]
     },
     "execution_count": 73,
     "metadata": {},
     "output_type": "execute_result"
    }
   ],
   "source": [
    "todolist"
   ]
  },
  {
   "cell_type": "code",
   "execution_count": 75,
   "id": "4738e65d-d515-40e5-bd7a-64d32aff382b",
   "metadata": {},
   "outputs": [
    {
     "data": {
      "text/plain": [
       "['running', 'eating', 'studying', 'shopping']"
      ]
     },
     "execution_count": 75,
     "metadata": {},
     "output_type": "execute_result"
    }
   ],
   "source": [
    "todolist"
   ]
  },
  {
   "cell_type": "code",
   "execution_count": null,
   "id": "4b013313-d9eb-4607-b317-9be90eb6a281",
   "metadata": {},
   "outputs": [],
   "source": []
  }
 ],
 "metadata": {
  "kernelspec": {
   "display_name": "Python 3 (ipykernel)",
   "language": "python",
   "name": "python3"
  },
  "language_info": {
   "codemirror_mode": {
    "name": "ipython",
    "version": 3
   },
   "file_extension": ".py",
   "mimetype": "text/x-python",
   "name": "python",
   "nbconvert_exporter": "python",
   "pygments_lexer": "ipython3",
   "version": "3.11.7"
  }
 },
 "nbformat": 4,
 "nbformat_minor": 5
}
